{
 "cells": [
  {
   "cell_type": "markdown",
   "metadata": {},
   "source": [
    "### Лаборатрная работа № 1 \"Методы оптимизации одномерных функций\"\n",
    "Выполнил: студент 3 курса группы 8171-22 Ибрагимов Никита"
   ]
  },
  {
   "cell_type": "markdown",
   "metadata": {},
   "source": [
    "### Analytical method"
   ]
  },
  {
   "cell_type": "markdown",
   "metadata": {},
   "source": [
    "y = 2 * x^4 - x + 1  \n",
    "y'= 8 * x^3 - 1  \n",
    "y'= 0 => 8 * x^3 - 1 = 0  \n",
    "8  * x^3 = 1  \n",
    "x^3 = 1/8  \n",
    "x = 1/2 = 0.5  \n",
    "При x < 0.5 производная функции имеет знак минус => функция убывает до x = 0.5  \n",
    "При x > 0.5 производная функции имеет знак плюс => функция возрастает после x = 0.5  \n",
    "Следовательно, x = 0.5 - абсцисса точки минимума функции  \n",
    "у = 2 * 0.5^4 - 0.5 + 1 = 0.625 - ордината точки минимума функции  \n",
    "  \n",
    "{0.5;0.625} - точка минимума функции"
   ]
  },
  {
   "cell_type": "markdown",
   "metadata": {},
   "source": [
    "### Graphic method"
   ]
  },
  {
   "attachments": {
    "graph.png": {
     "image/png": "http://yotx.ru/#!1/3_h/ubWwf7Wwf7Rgzhf23/aH/zbP9s34gh/K/t74D31kGbe9Ct/YN9Eg27sXPKeDzdYjxuXV7s7m/tAwY="
    }
   },
   "cell_type": "markdown",
   "metadata": {},
   "source": [
    "![alt tag](http://yotx.ru/#!1/3_h/ubWwf7Wwf7Rgzhf23/aH/zbP9s34gh/K/t74D31kGbe9Ct/YN9Eg27sXPKeDzdYjxuXV7s7m/tAwY=)"
   ]
  },
  {
   "cell_type": "markdown",
   "metadata": {},
   "source": [
    "### Dichotomy method"
   ]
  },
  {
   "cell_type": "code",
   "execution_count": 1,
   "metadata": {},
   "outputs": [
    {
     "name": "stdout",
     "output_type": "stream",
     "text": [
      "-10\n",
      "10\n",
      "min x =  0.499\n",
      "min y =  0.625\n"
     ]
    }
   ],
   "source": [
    "eps = 0.002\n",
    "a, b = int(input()), int(input())\n",
    "while (b - a)/2 >= eps:\n",
    "# Ищем иксы\n",
    "    x1 = a\n",
    "    x2 = b\n",
    "    x = (a + b)/2\n",
    "    \n",
    "# Ищем f(x)\n",
    "    y1 = 2 * (x1**4) - x1 + 1\n",
    "    y2 = 2 * (x2**4) - x2 + 1\n",
    "    \n",
    "# Отрезаем половину\n",
    "    if y1 < y2:\n",
    "        b = x\n",
    "    else:\n",
    "        a = x\n",
    "        \n",
    "# Выводим результат        \n",
    "x_min = (a + b) / 2\n",
    "y_min = 2 * x_min ** 4 - x_min + 1\n",
    "print('min x = ', round(x_min, 3))\n",
    "print('min y = ', round(y_min, 3))\n"
   ]
  },
  {
   "cell_type": "markdown",
   "metadata": {},
   "source": [
    "### Golden Ratio Method"
   ]
  },
  {
   "cell_type": "code",
   "execution_count": 20,
   "metadata": {},
   "outputs": [
    {
     "name": "stdout",
     "output_type": "stream",
     "text": [
      "-10\n",
      "10\n",
      "min x =  0.499\n",
      "min y =  0.625\n"
     ]
    }
   ],
   "source": [
    "k = 0.62\n",
    "eps = 0.002\n",
    "a, b = int(input()), int(input())\n",
    "while (b - a)/2 >= eps:\n",
    "# Ищем иксы\n",
    "    x1 = a + (1 - k) * (b - a)\n",
    "    x2 = a + k * (b - a)\n",
    "    \n",
    "# Ищем f(x)\n",
    "    y1 = 2 * (x1**4) - x1 + 1\n",
    "    y2 = 2 * (x2**4) - x2 + 1\n",
    "    \n",
    "# Алгоритм метода золотого сечения\n",
    "    if y1 > y2:\n",
    "        a = x1\n",
    "        x1 = x2\n",
    "        y1 = y2\n",
    "    else:\n",
    "        b = x2\n",
    "        x2 = x1\n",
    "        y1 = y2\n",
    "# Выводим результат\n",
    "x_min = (a + b) / 2\n",
    "y_min = 2 * x_min ** 4 - x_min + 1\n",
    "print('min x = ', round(x_min, 3))\n",
    "print('min y = ', round(y_min, 3))"
   ]
  },
  {
   "cell_type": "markdown",
   "metadata": {},
   "source": [
    "### Point distribution method"
   ]
  },
  {
   "cell_type": "code",
   "execution_count": 39,
   "metadata": {},
   "outputs": [
    {
     "name": "stdout",
     "output_type": "stream",
     "text": [
      "min (x, y) =  (0.5, 0.625)\n"
     ]
    }
   ],
   "source": [
    "lst_y = []\n",
    "lst_x = []\n",
    "x = -10\n",
    "while x < 10:\n",
    "    y = 2 * x**4 - x + 1\n",
    "    lst_y.append(round(y, 3)) # Создаем списки из всех значений y и x на промежутке\n",
    "    lst_x.append(round(x, 3))\n",
    "    x += 0.02 # шаг\n",
    "dict_x_y = dict(zip(lst_x,lst_y)) # Создаем словарь из двух списков\n",
    "sort_dict_x_y = sorted(dict_x_y.items(), key = lambda pair: pair[1]) # Сортируем его по значениям игрек по возрастанию\n",
    "print('min (x, y) = ', sort_dict_x_y[0]) "
   ]
  }
 ],
 "metadata": {
  "kernelspec": {
   "display_name": "Python 3",
   "language": "python",
   "name": "python3"
  },
  "language_info": {
   "codemirror_mode": {
    "name": "ipython",
    "version": 3
   },
   "file_extension": ".py",
   "mimetype": "text/x-python",
   "name": "python",
   "nbconvert_exporter": "python",
   "pygments_lexer": "ipython3",
   "version": "3.7.4"
  }
 },
 "nbformat": 4,
 "nbformat_minor": 2
}
